{
 "cells": [
  {
   "cell_type": "markdown",
   "metadata": {
    "deletable": true,
    "editable": true
   },
   "source": [
    "<img style=\"float: right;\" src=\"files/thehyve_logo.png\">\n",
    "# Pathway analysis\n",
    "---------------\n",
    "Copyright (c) 2015-2017 The Hyve B.V. This notebook is licensed under the GNU General Public License, version 3. Authors: Ruslan Forostianov, Pieter Lukasse, Ward Weistra.\n",
    "\n",
    "Make sure to have protobuf installed: `pip install protobuf`"
   ]
  },
  {
   "cell_type": "markdown",
   "metadata": {
    "deletable": true,
    "editable": true
   },
   "source": [
    "## Before running other code cells: Authenticate with tranSMART"
   ]
  },
  {
   "cell_type": "code",
   "execution_count": null,
   "metadata": {
    "collapsed": false,
    "deletable": true,
    "editable": true
   },
   "outputs": [],
   "source": [
    "import getpass\n",
    "from transmart_api import TransmartApi\n",
    "\n",
    "api = TransmartApi(\n",
    "    host = 'http://postgres-test.transmartfoundation.org/transmart',\n",
    "    user = input('Username:'),\n",
    "    password = getpass.getpass('Password:'),\n",
    "    apiversion = 1)\n",
    "\n",
    "api.access()"
   ]
  },
  {
   "cell_type": "markdown",
   "metadata": {
    "deletable": true,
    "editable": true
   },
   "source": [
    "# Part 1\n",
    "------------------------------\n",
    "## Get observations data\n",
    "\n",
    "We start by importing pandas utility package:"
   ]
  },
  {
   "cell_type": "code",
   "execution_count": null,
   "metadata": {
    "collapsed": true,
    "deletable": true,
    "editable": true
   },
   "outputs": [],
   "source": [
    "import pandas\n",
    "from pandas.io.json import json_normalize\n",
    "\n",
    "pandas.set_option('max_colwidth', 1000)\n",
    "pandas.set_option(\"display.max_rows\",100)"
   ]
  },
  {
   "cell_type": "markdown",
   "metadata": {
    "deletable": true,
    "editable": true
   },
   "source": [
    "Pandas is useful for converting the JSON format, received by the REST API, into an easy to use Python [Pandas DataFrame object](http://pandas.pydata.org/pandas-docs/stable/generated/pandas.DataFrame.html)."
   ]
  },
  {
   "cell_type": "code",
   "execution_count": null,
   "metadata": {
    "collapsed": false
   },
   "outputs": [],
   "source": [
    "studies = api.get_studies()\n",
    "json_normalize(studies['studies'])"
   ]
  },
  {
   "cell_type": "code",
   "execution_count": null,
   "metadata": {
    "collapsed": false,
    "deletable": true,
    "editable": true,
    "scrolled": false
   },
   "outputs": [],
   "source": [
    "study_id = 'GSE8581'\n",
    "obs = api.get_observations(study = study_id)\n",
    "obs_df1 = json_normalize(obs)"
   ]
  },
  {
   "cell_type": "code",
   "execution_count": null,
   "metadata": {
    "collapsed": false,
    "deletable": true,
    "editable": true
   },
   "outputs": [],
   "source": [
    "obs_df1"
   ]
  },
  {
   "cell_type": "markdown",
   "metadata": {
    "deletable": true,
    "editable": true
   },
   "source": [
    "Here we reorganize the data such that each line represents a subject and the columns represent the different clinical attributes."
   ]
  },
  {
   "cell_type": "code",
   "execution_count": null,
   "metadata": {
    "collapsed": false,
    "deletable": true,
    "editable": true
   },
   "outputs": [],
   "source": [
    "obs_df2 = obs_df1.pivot(index = 'subject.inTrialId', columns = 'label', values = 'value')\n",
    "obs_df3 = obs_df2.convert_objects()\n",
    "obs_df4 = obs_df3.rename(\n",
    "    columns = lambda c: c.replace('\\Public Studies\\COPD_Bhattacharya_GSE8581\\\\', '')[:-1],\n",
    "    inplace = False)\n",
    "obs_df4"
   ]
  },
  {
   "cell_type": "markdown",
   "metadata": {
    "deletable": true,
    "editable": true
   },
   "source": [
    "Split the **control** and **chronic obstructive pulmonary disease** sets:"
   ]
  },
  {
   "cell_type": "code",
   "execution_count": null,
   "metadata": {
    "collapsed": false,
    "deletable": true,
    "editable": true
   },
   "outputs": [],
   "source": [
    "control = obs_df4['Subjects\\Lung Disease'] == 'control'\n",
    "treatment = obs_df4['Subjects\\Lung Disease'] == 'chronic obstructive pulmonary disease'"
   ]
  },
  {
   "cell_type": "markdown",
   "metadata": {
    "deletable": true,
    "editable": true
   },
   "source": [
    "Some basic statistics comparing the numerical attributes of both sets:"
   ]
  },
  {
   "cell_type": "code",
   "execution_count": null,
   "metadata": {
    "collapsed": false,
    "deletable": true,
    "editable": true
   },
   "outputs": [],
   "source": [
    "obs_df4[control].describe()"
   ]
  },
  {
   "cell_type": "code",
   "execution_count": null,
   "metadata": {
    "collapsed": false,
    "deletable": true,
    "editable": true
   },
   "outputs": [],
   "source": [
    "obs_df4[treatment].describe()"
   ]
  },
  {
   "cell_type": "markdown",
   "metadata": {
    "deletable": true,
    "editable": true
   },
   "source": [
    "# Part 2 - Retrieving molecular (aka \"high dimensional\") data\n",
    "------------------\n",
    "\n",
    "\n",
    "## Downloading the expression data for our chosen study\n",
    "\n",
    "This can take a while (~1 minute)"
   ]
  },
  {
   "cell_type": "code",
   "execution_count": null,
   "metadata": {
    "collapsed": false,
    "deletable": true,
    "editable": true
   },
   "outputs": [],
   "source": [
    "(hdHeader, hdRows) = api.get_hd_node_data(study = study_id,\n",
    "                                          node_name = 'Lung',\n",
    "                                          projection='log_intensity')"
   ]
  },
  {
   "cell_type": "markdown",
   "metadata": {
    "deletable": true,
    "editable": true
   },
   "source": [
    "Select only the data rows where the probes are mapped to a gene (aka bioMarker). Gene ID\\probe ID will form the row names while the patientId values are used for the columns."
   ]
  },
  {
   "cell_type": "code",
   "execution_count": null,
   "metadata": {
    "collapsed": false,
    "deletable": true,
    "editable": true
   },
   "outputs": [],
   "source": [
    "rows = [row.value[0].doubleValue._values for row in hdRows if row.bioMarker != 'null']\n",
    "row_names = [row.bioMarker + \"\\\\\" + row.label for row in hdRows if row.bioMarker != 'null']\n",
    "col_names = [assay.patientId for assay in hdHeader.assay]"
   ]
  },
  {
   "cell_type": "markdown",
   "metadata": {
    "deletable": true,
    "editable": true
   },
   "source": [
    "Build the table as a DataFrame in Pandas:"
   ]
  },
  {
   "cell_type": "code",
   "execution_count": null,
   "metadata": {
    "collapsed": false,
    "deletable": true,
    "editable": true,
    "scrolled": true
   },
   "outputs": [],
   "source": [
    "from pandas import DataFrame\n",
    "\n",
    "hd_df = DataFrame(rows, columns = col_names, index = row_names)\n",
    "hd_df"
   ]
  },
  {
   "cell_type": "code",
   "execution_count": null,
   "metadata": {
    "collapsed": false,
    "deletable": true,
    "editable": true
   },
   "outputs": [],
   "source": [
    "%load_ext rpy2.ipython"
   ]
  },
  {
   "cell_type": "code",
   "execution_count": null,
   "metadata": {
    "collapsed": false,
    "deletable": true,
    "editable": true
   },
   "outputs": [],
   "source": [
    "%%R -i hd_df\n",
    "\n",
    "plot(density(hd_df[,1]))"
   ]
  },
  {
   "cell_type": "markdown",
   "metadata": {
    "deletable": true,
    "editable": true
   },
   "source": [
    "Using the **control** and **treatment** sets made a few cells above, we build the \"design\" data frame showing which subjects are part of which set."
   ]
  },
  {
   "cell_type": "code",
   "execution_count": null,
   "metadata": {
    "collapsed": false,
    "deletable": true,
    "editable": true,
    "scrolled": true
   },
   "outputs": [],
   "source": [
    "design_df = DataFrame({'control': control[col_names], 'treatment': treatment[col_names]})\n",
    "design_df"
   ]
  },
  {
   "cell_type": "markdown",
   "metadata": {
    "deletable": true,
    "editable": true
   },
   "source": [
    "### Calling R differential analysis code (aka Advanced Analysis>'Marker Selection' in tranSMART)"
   ]
  },
  {
   "cell_type": "markdown",
   "metadata": {
    "deletable": true,
    "editable": true
   },
   "source": [
    "Here we pass the data frames, initialized above in Python, to R. Jupyter will convert this to R. Handy feature!! Now we can also reuse all the nice R libraries which are not (yet) in Python."
   ]
  },
  {
   "cell_type": "code",
   "execution_count": null,
   "metadata": {
    "collapsed": false,
    "deletable": true,
    "editable": true
   },
   "outputs": [],
   "source": [
    "%load_ext rpy2.ipython"
   ]
  },
  {
   "cell_type": "code",
   "execution_count": null,
   "metadata": {
    "collapsed": false,
    "deletable": true,
    "editable": true
   },
   "outputs": [],
   "source": [
    "%%R -i hd_df -i design_df -o top_fit\n",
    "\n",
    "library(limma)\n",
    "\n",
    "design.matrix <- sapply(design_df, as.numeric)\n",
    "contrast.matrix <- makeContrasts(control - treatment, levels = design.matrix)\n",
    "\n",
    "fit <- lmFit(hd_df, design.matrix)\n",
    "fit <- contrasts.fit(fit, contrast.matrix)\n",
    "fit <- eBayes(fit)\n",
    "\n",
    "contr=1\n",
    "log_fc = fit$coefficients[, contr]/log(2)\n",
    "p_value = -log10(fit$p.value[, contr])\n",
    "plot(log_fc, p_value, ylab=\"-log10 p-value\", xlab=\"log2 fold change\")\n",
    "\n",
    "# alternative plots log fc x log odds: \n",
    "#volcanoplot(fit)\n",
    "\n",
    "# \"send\" data back to Python: make a dataframe containing the important data and store \n",
    "# in top_fit (the \"-o\" variable above) so that it can be accessed in python code \n",
    "# in the subsequent code cells of this notebook (see flag '-o top_fit' above):\n",
    "top_fit = data.frame(\n",
    "    probe = rownames(fit$coefficients),\n",
    "    log_fc = fit$coefficients[, contr],\n",
    "    t = fit$t[, contr],\n",
    "    p_value = fit$p.value[, contr],\n",
    "    b = fit$lods[, contr],\n",
    "    stringsAsFactors = FALSE\n",
    ")"
   ]
  },
  {
   "cell_type": "code",
   "execution_count": null,
   "metadata": {
    "collapsed": false,
    "deletable": true,
    "editable": true
   },
   "outputs": [],
   "source": [
    "top_fit"
   ]
  },
  {
   "cell_type": "markdown",
   "metadata": {
    "deletable": true,
    "editable": true
   },
   "source": [
    "## Filtering results on p-value\n",
    "\n",
    "Back to Python....we can access **top_fit** variable because it was passed above as an \"output\" parameter to the R code. We use it to select the probes below a specific p-value threshold."
   ]
  },
  {
   "cell_type": "code",
   "execution_count": null,
   "metadata": {
    "collapsed": false,
    "deletable": true,
    "editable": true,
    "scrolled": true
   },
   "outputs": [],
   "source": [
    "top_probes = top_fit[top_fit.p_value < 0.05] \\\n",
    "              .set_index(['probe']).sort(['p_value'], ascending = True)\n",
    "top_probes"
   ]
  },
  {
   "cell_type": "code",
   "execution_count": null,
   "metadata": {
    "collapsed": false,
    "deletable": true,
    "editable": true,
    "scrolled": true
   },
   "outputs": [],
   "source": [
    "def get_gene_name(probe):\n",
    "    return probe.split('\\\\')[0]\n",
    "\n",
    "top_probes['gene_name'] = top_probes.index.map(get_gene_name)\n",
    "top_probes"
   ]
  },
  {
   "cell_type": "markdown",
   "metadata": {
    "deletable": true,
    "editable": true
   },
   "source": [
    "Map the gene names to Entrez Gene IDs (which are supported by KEGG API).\n",
    "The output table shows **top_probes** again, now with mapped gene_id column:"
   ]
  },
  {
   "cell_type": "code",
   "execution_count": null,
   "metadata": {
    "collapsed": false,
    "deletable": true,
    "editable": true,
    "scrolled": true
   },
   "outputs": [],
   "source": [
    "from utils import Entrez\n",
    "\n",
    "entrez = Entrez()\n",
    "\n",
    "top_probes['gene_id'] = top_probes.gene_name.map(entrez.get_gene_id)\n",
    "top_probes"
   ]
  },
  {
   "cell_type": "markdown",
   "metadata": {
    "deletable": true,
    "editable": true
   },
   "source": [
    "## Search via the KEGG API\n",
    "Here we use our custom Python class **Kegg** which calls the KEGG API to find the pathways in KEGG that match one or more of the gene_ids. The output table displays the **top_probes** again, now with a column containing the pathway(s) in which this gene is found. The pathway names are also links to their corresponding entry in the KEGG website.\n",
    "We expect some genes to be found in one pathway, some genes in many pathways and many genes in none of the pathways."
   ]
  },
  {
   "cell_type": "code",
   "execution_count": null,
   "metadata": {
    "collapsed": false,
    "deletable": true,
    "editable": true,
    "scrolled": true
   },
   "outputs": [],
   "source": [
    "from utils import Kegg\n",
    "# find the pathways in KEGG that match one or more of the gene_ids:\n",
    "kegg = Kegg(gene_ids = top_probes.gene_id)\n",
    "\n",
    "top_probes['pathways_ids'] = top_probes.gene_id.map(kegg.get_pathways_image_links_by_gene)\n",
    "\n",
    "from IPython.display import HTML\n",
    "HTML(top_probes.to_html(escape=False))"
   ]
  },
  {
   "cell_type": "markdown",
   "metadata": {
    "deletable": true,
    "editable": true
   },
   "source": [
    "## Results + KEGG visualization\n",
    "Here we select the pathways that match 2 or more genes. The pathway name is also a link to the KEGG visualization, which displays the pathway and all the genes of our dataset that were found in this pathway. The genes of our dataset are highlighted in red in the KEGG visualization. The figure below shows this.\n",
    "\n",
    "<img style=\"float: left;\" src=\"files/hsa04723.png\">"
   ]
  },
  {
   "cell_type": "code",
   "execution_count": null,
   "metadata": {
    "collapsed": false,
    "deletable": true,
    "editable": true
   },
   "outputs": [],
   "source": [
    "pathways_df = DataFrame(kegg.get_all_pathways_rows(), columns=['link to pathway', 'nr genes matched'])\n",
    "\n",
    "pathways_df = pathways_df[pathways_df['nr genes matched'] > 1].sort(['nr genes matched'], ascending = False)\n",
    "\n",
    "HTML(pathways_df.to_html(escape=False))"
   ]
  },
  {
   "cell_type": "markdown",
   "metadata": {
    "deletable": true,
    "editable": true
   },
   "source": [
    "# Exercise \n",
    "------------------------\n",
    "Change p-value constraint to 0.05 in step [Filtering results on p-value](#Filtering-results-on-p-value)\n"
   ]
  },
  {
   "cell_type": "code",
   "execution_count": null,
   "metadata": {
    "collapsed": true,
    "deletable": true,
    "editable": true
   },
   "outputs": [],
   "source": [
    "# optional exercise: duplicate only the necessary code here, now with new p-value. \n",
    "# Generate only the table with the list of pathways and 'nr of genes matched' "
   ]
  }
 ],
 "metadata": {
  "kernelspec": {
   "display_name": "Python 3",
   "language": "python",
   "name": "python3"
  },
  "language_info": {
   "codemirror_mode": {
    "name": "ipython",
    "version": 3
   },
   "file_extension": ".py",
   "mimetype": "text/x-python",
   "name": "python",
   "nbconvert_exporter": "python",
   "pygments_lexer": "ipython3",
   "version": "3.5.1"
  }
 },
 "nbformat": 4,
 "nbformat_minor": 0
}
